{
 "cells": [
  {
   "cell_type": "code",
   "execution_count": 3,
   "metadata": {
    "tags": []
   },
   "outputs": [],
   "source": [
    "import os\n",
    "if not os.path.exists('./jw_utils'):\n",
    "    !git clone https://github.com/JonWinkelman/jw_utils.git\n",
    "from orthofinder_utils import dash_app_preprocess as dap\n",
    "from orthofinder_utils import proteomes_for_orthofinder as pfo\n",
    "from orthofinder_utils import dash_ortho_parser_d as dop\n",
    "from jw_utils import parse_gff as pgf\n",
    "import zipfile\n",
    "import pandas as pd\n",
    "import json\n",
    "from Bio import Phylo\n",
    "import shutil\n",
    "import plotly.graph_objects as go\n",
    "from jw_utils import ncbi_datasets_fxs as nfx\n",
    "from jw_utils import jw_ncbi_taxonomy as jnt\n",
    "\n",
    "\n",
    "colors = {\n",
    "    't_blue': 'rgba(0,102,153,255)',\n",
    "    't_green': 'rgba(61,174,43,255)',\n",
    "    't_red': 'rgb(255,20,20)',\n",
    "    'seagreen':'#2c8d42',\n",
    "    'orange':'#F9B257'}"
   ]
  },
  {
   "cell_type": "code",
   "execution_count": 4,
   "metadata": {},
   "outputs": [],
   "source": [
    "summary_dir = './data/summary_data/'\n",
    "if not os.path.exists(summary_dir):\n",
    "    os.makedirs(summary_dir)\n",
    "!datasets download genome accession --inputfile ./accessions.txt --include gff3,protein,genome\n",
    "!datasets summary genome accession --inputfile ./accessions.txt > ./data/summary_data/summaries.json\n"
   ]
  },
  {
   "cell_type": "code",
   "execution_count": 13,
   "metadata": {
    "collapsed": true,
    "jupyter": {
     "outputs_hidden": true
    }
   },
   "outputs": [
    {
     "ename": "FileNotFoundError",
     "evalue": "[Errno 2] No such file or directory: 'ncbi_dataset.zip'",
     "output_type": "error",
     "traceback": [
      "\u001b[0;31m---------------------------------------------------------------------------\u001b[0m",
      "\u001b[0;31mFileNotFoundError\u001b[0m                         Traceback (most recent call last)",
      "Cell \u001b[0;32mIn[13], line 5\u001b[0m\n\u001b[1;32m      2\u001b[0m extract_to_dir \u001b[38;5;241m=\u001b[39m \u001b[38;5;124m'\u001b[39m\u001b[38;5;124mdata/ncbi_dataset\u001b[39m\u001b[38;5;124m'\u001b[39m\n\u001b[1;32m      3\u001b[0m os\u001b[38;5;241m.\u001b[39mmakedirs(extract_to_dir, exist_ok\u001b[38;5;241m=\u001b[39m\u001b[38;5;28;01mTrue\u001b[39;00m)\n\u001b[0;32m----> 5\u001b[0m \u001b[38;5;28;01mwith\u001b[39;00m \u001b[43mzipfile\u001b[49m\u001b[38;5;241;43m.\u001b[39;49m\u001b[43mZipFile\u001b[49m\u001b[43m(\u001b[49m\u001b[43mzip_file_path\u001b[49m\u001b[43m,\u001b[49m\u001b[43m \u001b[49m\u001b[38;5;124;43m'\u001b[39;49m\u001b[38;5;124;43mr\u001b[39;49m\u001b[38;5;124;43m'\u001b[39;49m\u001b[43m)\u001b[49m \u001b[38;5;28;01mas\u001b[39;00m zip_ref:\n\u001b[1;32m      6\u001b[0m     zip_ref\u001b[38;5;241m.\u001b[39mextractall(extract_to_dir)\n\u001b[1;32m      8\u001b[0m \u001b[38;5;28mprint\u001b[39m(\u001b[38;5;124mf\u001b[39m\u001b[38;5;124m\"\u001b[39m\u001b[38;5;124mExtracted all files to \u001b[39m\u001b[38;5;132;01m{\u001b[39;00mextract_to_dir\u001b[38;5;132;01m}\u001b[39;00m\u001b[38;5;124m\"\u001b[39m)\n",
      "File \u001b[0;32m/Library/Frameworks/Python.framework/Versions/3.10/lib/python3.10/zipfile.py:1240\u001b[0m, in \u001b[0;36mZipFile.__init__\u001b[0;34m(self, file, mode, compression, allowZip64, compresslevel, strict_timestamps)\u001b[0m\n\u001b[1;32m   1238\u001b[0m \u001b[38;5;28;01mwhile\u001b[39;00m \u001b[38;5;28;01mTrue\u001b[39;00m:\n\u001b[1;32m   1239\u001b[0m     \u001b[38;5;28;01mtry\u001b[39;00m:\n\u001b[0;32m-> 1240\u001b[0m         \u001b[38;5;28mself\u001b[39m\u001b[38;5;241m.\u001b[39mfp \u001b[38;5;241m=\u001b[39m \u001b[43mio\u001b[49m\u001b[38;5;241;43m.\u001b[39;49m\u001b[43mopen\u001b[49m\u001b[43m(\u001b[49m\u001b[43mfile\u001b[49m\u001b[43m,\u001b[49m\u001b[43m \u001b[49m\u001b[43mfilemode\u001b[49m\u001b[43m)\u001b[49m\n\u001b[1;32m   1241\u001b[0m     \u001b[38;5;28;01mexcept\u001b[39;00m \u001b[38;5;167;01mOSError\u001b[39;00m:\n\u001b[1;32m   1242\u001b[0m         \u001b[38;5;28;01mif\u001b[39;00m filemode \u001b[38;5;129;01min\u001b[39;00m modeDict:\n",
      "\u001b[0;31mFileNotFoundError\u001b[0m: [Errno 2] No such file or directory: 'ncbi_dataset.zip'"
     ]
    }
   ],
   "source": [
    "zip_file_path = 'ncbi_dataset.zip'\n",
    "extract_to_dir = 'data/ncbi_dataset'\n",
    "os.makedirs(extract_to_dir, exist_ok=True)\n",
    "\n",
    "with zipfile.ZipFile(zip_file_path, 'r') as zip_ref:\n",
    "    zip_ref.extractall(extract_to_dir)\n",
    "\n",
    "print(f\"Extracted all files to {extract_to_dir}\")\n",
    "shutil.move('./data/ncbi_dataset/ncbi_dataset/data','./data/ncbi_dataset/')\n",
    "!rm -r ./data/ncbi_dataset/ncbi_dataset"
   ]
  },
  {
   "cell_type": "code",
   "execution_count": 5,
   "metadata": {},
   "outputs": [],
   "source": [
    "data_dir = './data/ncbi_dataset/data/'\n",
    "proteome_dir = 'data/Proteomes'\n",
    "os.makedirs(proteome_dir, exist_ok=True)\n",
    "for dir in os.listdir(data_dir):\n",
    "    if dir.startswith('GC'):\n",
    "        fs = os.listdir(os.path.join(data_dir,dir))\n",
    "        for f in fs:\n",
    "            if f.endswith('.faa'):\n",
    "                new_f = (f'{dir}.faa')\n",
    "                fp = os.path.join(data_dir,dir,f)\n",
    "                new_fp = os.path.join(proteome_dir,new_f)\n",
    "                print(fp)\n",
    "                shutil.move(fp,new_fp )\n"
   ]
  },
  {
   "cell_type": "markdown",
   "metadata": {},
   "source": [
    "### Setup for starting a orthofinder dash app    \n",
    "***This is assuming you have run orthofinder on a set of proteomes and have the resulting    orthofinder data in a folder called Proteomes  \n",
    "1. CHANGE WORKING DIRECTORY of this notebook TO dash_app main folder   \n",
    "2. make a directory inside the main /dash_app folder called data (dash_app/data).\n",
    "    - `$ !mkdir ./data`\n",
    "    - `$ !mkdir ./data/Proteomes`\n",
    "    - `$ !mv ./Proteomes/* ./data/Proteomes`\n",
    "\n",
    "3. Place the ncbi_dataset/data containing all the data downloaded from ncbi into ./data\n",
    "    - dash_app/data/ncbi_datasets/data  \n",
    "4. You will need to generate a summary file of all genomes. Using the terminal is the most   \n",
    "reliable way I've found to do this.  \n",
    "    - `$ !datasets summary genome accession --inputfile accessions.txt > summaries.json`\n",
    " \n",
    " 4) Run `dap.run_all()` in the cell below. If you haven't generated a summary file  \n",
    " then an error will be thrown, and code to get summary file via ncbi datasets cli will be  printed out\n"
   ]
  },
  {
   "cell_type": "markdown",
   "metadata": {},
   "source": [
    "### Check that species in different directories are equivalent"
   ]
  },
  {
   "cell_type": "code",
   "execution_count": 6,
   "metadata": {
    "tags": []
   },
   "outputs": [],
   "source": [
    "def check_for_equivalent_species():\n",
    "    if not os.path.exists('./data/summary_data/'):\n",
    "        os.makedirs('./data/summary_data/')\n",
    "    if not os.path.exists('./accessions.txt'):\n",
    "        raise FileNotFoundError('\"./accessions.txt\" could not be found.')\n",
    "    proteomes = [f[:15] for f in os.listdir('./data/Proteomes') if f.endswith('.faa')]\n",
    "    assemblies = [f[:15] for f in os.listdir('./data/ncbi_dataset/data') if f.startswith('GC')]\n",
    "    with open('./accessions.txt', 'r') as f:\n",
    "        accessions = [line.strip() for line in f]\n",
    "    if not sorted(accessions) == sorted(assemblies):\n",
    "        raise Exception(f'\"./data/ncbi_dataset/data\" and \"./accessions.txt\" are not equivalent') \n",
    "    elif not sorted(assemblies) == sorted(proteomes):\n",
    "        raise Exception(f'\"./data/ncbi_dataset/data\" and \"/data/Proteomes\" are not equivalent')\n",
    "    elif not sorted(accessions) == sorted(proteomes):\n",
    "        raise Exception(f'\"./accessions.txt\" and \"/data/Proteomes\" are not equivalent')\n",
    "    else:\n",
    "        print('All directories contain equivalent species')\n",
    "    shutil.copy('./accessions.txt', './data/summary_data/accessions.txt')\n",
    "    \n",
    "accs_p = [a[:15] for a in os.listdir('./data/Proteomes/') if a.startswith('GC')]\n",
    "acc_assemblies = [f[:15] for f in os.listdir('./data/ncbi_dataset/data') if f.startswith('GC')]\n",
    "with open('./accessions.txt', 'r') as f:\n",
    "    accs_a = []\n",
    "    for line in f: \n",
    "        accs_a.append(line.strip())\n",
    "with open('./accessions.txt', 'w') as f:\n",
    "    accs_a = list(set(accs_a))\n",
    "    for acc in accs_a:\n",
    "        f.write(f'{acc}\\n')\n",
    "\n",
    "\n",
    "\n",
    "for acc in accs_p:\n",
    "    if acc not in accs_a:\n",
    "        print(f'Proteome {acc} not in ./accessions.txt')\n",
    "for acc in accs_a:\n",
    "    if acc not in accs_p:\n",
    "        print(f'Assession {acc} from ./assessions.txt  not in ./data/Proteomes/')"
   ]
  },
  {
   "cell_type": "code",
   "execution_count": 7,
   "metadata": {},
   "outputs": [
    {
     "name": "stdout",
     "output_type": "stream",
     "text": [
      "All directories contain equivalent species\n"
     ]
    }
   ],
   "source": [
    "check_for_equivalent_species()\n"
   ]
  },
  {
   "cell_type": "code",
   "execution_count": 38,
   "metadata": {},
   "outputs": [
    {
     "name": "stdout",
     "output_type": "stream",
     "text": [
      "/bin/bash: orthofinder: command not found\n"
     ]
    }
   ],
   "source": [
    "!orthofinder -f ./data/Proteomes"
   ]
  },
  {
   "cell_type": "code",
   "execution_count": null,
   "metadata": {
    "tags": []
   },
   "outputs": [],
   "source": []
  },
  {
   "cell_type": "markdown",
   "metadata": {},
   "source": [
    "## Generate data files for dash app\n",
    "### !!Change path for latest orthofinder results!!"
   ]
  },
  {
   "cell_type": "code",
   "execution_count": 37,
   "metadata": {
    "tags": []
   },
   "outputs": [],
   "source": [
    "if not os.path.exists('./data/Proteomes/OrthoFinder'):\n",
    "    os.mkdir('./data/Proteomes/OrthoFinder')"
   ]
  },
  {
   "cell_type": "code",
   "execution_count": 30,
   "metadata": {
    "tags": []
   },
   "outputs": [],
   "source": [
    "import importlib\n",
    "importlib.reload(dap)\n",
    "path_to_parent=os.getcwd()\n",
    "path_to_results = './data/Proteomes/OrthoFinder/Results_Aug26'\n",
    "dap.run_all(path_to_results)"
   ]
  },
  {
   "cell_type": "markdown",
   "metadata": {},
   "source": [
    "### Make tree annotation file"
   ]
  },
  {
   "cell_type": "code",
   "execution_count": 31,
   "metadata": {
    "tags": []
   },
   "outputs": [],
   "source": [
    "sp_tree_path = './data/Species_Tree/SpeciesTree_rooted_node_labels.txt'\n",
    "path_to_summary ='./data/summary_data/summaries.json'\n",
    "\n",
    "def make_internal_node_d(tree):\n",
    "    \"\"\"\"\"\"\n",
    "    internal_node_dict = {}\n",
    "    for node in tree.get_nonterminals():\n",
    "        internal_node_dict[node.name] = {'name':node.name, 'rank':'', 'taxid':'', 'sci_name':''}\n",
    "    for node in tree.get_terminals():\n",
    "            internal_node_dict[node.name] = {'name':node.name}\n",
    "    internal_node_dict\n",
    "\n",
    "    with open('./data/summary_data/internal_node_dict.json', 'w') as f:\n",
    "        json.dump(internal_node_dict, f)\n",
    "    internal_node_dict\n",
    "\n",
    "make_internal_node_d(Phylo.read(sp_tree_path, format='newick'))"
   ]
  },
  {
   "cell_type": "markdown",
   "metadata": {},
   "source": [
    "### Make node rank lineage file"
   ]
  },
  {
   "cell_type": "code",
   "execution_count": 33,
   "metadata": {
    "tags": []
   },
   "outputs": [
    {
     "name": "stdout",
     "output_type": "stream",
     "text": [
      "/Library/Frameworks/Python.framework/Versions/3.10/bin/python3: /Library/Frameworks/Python.framework/Versions/3.10/bin/python3: cannot execute binary file\n"
     ]
    }
   ],
   "source": [
    "# python3 app1.py\n"
   ]
  },
  {
   "cell_type": "code",
   "execution_count": null,
   "metadata": {
    "collapsed": true,
    "jupyter": {
     "outputs_hidden": true
    },
    "tags": []
   },
   "outputs": [],
   "source": []
  },
  {
   "cell_type": "code",
   "execution_count": null,
   "metadata": {
    "tags": []
   },
   "outputs": [],
   "source": [
    "\n"
   ]
  },
  {
   "cell_type": "code",
   "execution_count": null,
   "metadata": {
    "tags": []
   },
   "outputs": [],
   "source": []
  },
  {
   "cell_type": "code",
   "execution_count": null,
   "metadata": {
    "tags": []
   },
   "outputs": [],
   "source": [
    "\n"
   ]
  },
  {
   "cell_type": "code",
   "execution_count": null,
   "metadata": {},
   "outputs": [],
   "source": []
  },
  {
   "cell_type": "code",
   "execution_count": null,
   "metadata": {},
   "outputs": [],
   "source": []
  }
 ],
 "metadata": {
  "kernelspec": {
   "display_name": "Python 3 (ipykernel)",
   "language": "python",
   "name": "python3"
  },
  "language_info": {
   "codemirror_mode": {
    "name": "ipython",
    "version": 3
   },
   "file_extension": ".py",
   "mimetype": "text/x-python",
   "name": "python",
   "nbconvert_exporter": "python",
   "pygments_lexer": "ipython3",
   "version": "3.10.1"
  }
 },
 "nbformat": 4,
 "nbformat_minor": 4
}
