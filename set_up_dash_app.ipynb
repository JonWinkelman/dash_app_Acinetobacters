{
 "cells": [
  {
   "cell_type": "code",
   "execution_count": 70,
   "metadata": {
    "tags": []
   },
   "outputs": [],
   "source": [
    "from orthofinder_utils import dash_app_preprocess as dap\n",
    "from orthofinder_utils import proteomes_for_orthofinder as pfo\n",
    "from orthofinder_utils import dash_ortho_parser_d as dop\n",
    "from jw_utils import parse_gff as pgf\n",
    "import os\n",
    "import pandas as pd\n",
    "import json\n",
    "from Bio import Phylo\n",
    "import shutil\n",
    "import plotly.graph_objects as go\n",
    "from jw_utils import ncbi_datasets_fxs as nfx\n",
    "from jw_utils import jw_ncbi_taxonomy as jnt\n",
    "from ete3 import ncbi_taxonomy\n",
    "ncbi_tax = ncbi_taxonomy.NCBITaxa()\n",
    "\n",
    "colors = {\n",
    "    't_blue': 'rgba(0,102,153,255)',\n",
    "    't_green': 'rgba(61,174,43,255)',\n",
    "    't_red': 'rgb(255,20,20)',\n",
    "    'seagreen':'#2c8d42',\n",
    "    'orange':'#F9B257'}"
   ]
  },
  {
   "cell_type": "markdown",
   "metadata": {},
   "source": [
    "### Setup for starting a orthofinder dash app    \n",
    "***This is assuming you have run orthofinder on a set of proteomes and have the resulting    orthofinder data in a folder called Proteomes  \n",
    "1. CHANGE WORKING DIRECTORY of this notebook TO dash_app main folder   \n",
    "2. make a directory inside the main /dash_app folder called data (dash_app/data).\n",
    "    - `$ !mkdir ./data`\n",
    "    - `$ !mkdir ./data/Proteomes`\n",
    "    - `$ !mv ./Proteomes/* ./data/Proteomes`\n",
    "\n",
    "3. Place the ncbi_dataset/data containing all the data downloaded from ncbi into ./data\n",
    "    - dash_app/data/ncbi_datasets/data  \n",
    "4. You will need to generate a summary file of all genomes. Using the terminal is the most   \n",
    "reliable way I've found to do this.  \n",
    "    - `$ !datasets summary genome accession --inputfile accessions.txt > summaries.json`\n",
    " \n",
    " 4) Run `dap.run_all()` in the cell below. If you haven't generated a summary file  \n",
    " then an error will be thrown, and code to get summary file via ncbi datasets cli will be  printed out\n"
   ]
  },
  {
   "cell_type": "markdown",
   "metadata": {},
   "source": [
    "### Check that species in different directories are equivalent"
   ]
  },
  {
   "cell_type": "code",
   "execution_count": 71,
   "metadata": {
    "tags": []
   },
   "outputs": [],
   "source": [
    "def check_for_equivalent_species():\n",
    "    if not os.path.exists('./data/summary_data/'):\n",
    "        os.makedirs('./data/summary_data/')\n",
    "    if not os.path.exists('./accessions.txt'):\n",
    "        raise FileNotFoundError('\"./accessions.txt\" could not be found.')\n",
    "    proteomes = [f[:15] for f in os.listdir('./data/Proteomes') if f.endswith('.faa')]\n",
    "    assemblies = [f[:15] for f in os.listdir('./data/ncbi_dataset/data') if f.startswith('GC')]\n",
    "    with open('./accessions.txt', 'r') as f:\n",
    "        accessions = [line.strip() for line in f]\n",
    "    if not sorted(accessions) == sorted(assemblies):\n",
    "        raise Exception(f'\"./data/ncbi_dataset/data\" and \"./accessions.txt\" are not equivalent') \n",
    "    elif not sorted(assemblies) == sorted(proteomes):\n",
    "        raise Exception(f'\"./data/ncbi_dataset/data\" and \"/data/Proteomes\" are not equivalent')\n",
    "    elif not sorted(accessions) == sorted(proteomes):\n",
    "        raise Exception(f'\"./accessions.txt\" and \"/data/Proteomes\" are not equivalent')\n",
    "    else:\n",
    "        print('All directories contain equivalent species')\n",
    "    shutil.copy('./accessions.txt', './data/summary_data/accessions.txt')\n",
    "    \n",
    "accs_p = [a[:15] for a in os.listdir('./data/Proteomes/') if a.startswith('GC')]\n",
    "acc_assemblies = [f[:15] for f in os.listdir('./data/ncbi_dataset/data') if f.startswith('GC')]\n",
    "with open('./accessions.txt', 'r') as f:\n",
    "    accs_a = []\n",
    "    for line in f: \n",
    "        accs_a.append(line.strip())\n",
    "with open('./accessions.txt', 'w') as f:\n",
    "    accs_a = list(set(accs_a))\n",
    "    for acc in accs_a:\n",
    "        f.write(f'{acc}\\n')\n",
    "\n",
    "\n",
    "\n",
    "for acc in accs_p:\n",
    "    if acc not in accs_a:\n",
    "        print(f'Proteome {acc} not in ./accessions.txt')\n",
    "for acc in accs_a:\n",
    "    if acc not in accs_p:\n",
    "        print(f'Assession {acc} from ./assessions.txt  not in ./data/Proteomes/')"
   ]
  },
  {
   "cell_type": "code",
   "execution_count": 74,
   "metadata": {
    "tags": []
   },
   "outputs": [
    {
     "name": "stdout",
     "output_type": "stream",
     "text": [
      "All directories contain equivalent species\n",
      "New version of client (16.26.2) available at https://ftp.ncbi.nlm.nih.gov/pub/datasets/command-line/LATEST/mac/datasets.\n"
     ]
    }
   ],
   "source": [
    "check_for_equivalent_species()\n",
    "!datasets summary genome accession --inputfile ./data/summary_data/accessions.txt > ./data/summary_data/summaries.json"
   ]
  },
  {
   "cell_type": "markdown",
   "metadata": {},
   "source": [
    "## Generate data files for dash app\n",
    "### !!Change path for latest orthofinder results!!"
   ]
  },
  {
   "cell_type": "code",
   "execution_count": 3,
   "metadata": {
    "tags": []
   },
   "outputs": [],
   "source": [
    "if not os.path.exists('./data/Proteomes/OrthoFinder'):\n",
    "    os.mkdir('./data/Proteomes/OrthoFinder')"
   ]
  },
  {
   "cell_type": "code",
   "execution_count": 75,
   "metadata": {
    "tags": []
   },
   "outputs": [
    {
     "name": "stdout",
     "output_type": "stream",
     "text": [
      "all checks produce equivalent assembly identifiers\n"
     ]
    }
   ],
   "source": [
    "path_to_parent=os.getcwd()\n",
    "path_to_results = './data/Proteomes/OrthoFinder/Results_Jan23_2'\n",
    "dap.run_all(path_to_results)"
   ]
  },
  {
   "cell_type": "markdown",
   "metadata": {
    "tags": []
   },
   "source": [
    "# Three more files to make:  \n",
    "1. json annotation file. THis is the default if you want any extra annoations on internal nodes\n",
    "2. json file with  "
   ]
  },
  {
   "cell_type": "markdown",
   "metadata": {},
   "source": [
    "### Make tree annotation file"
   ]
  },
  {
   "cell_type": "code",
   "execution_count": 76,
   "metadata": {
    "tags": []
   },
   "outputs": [],
   "source": [
    "sp_tree_path = './data/Species_Tree/SpeciesTree_rooted_node_labels.txt'\n",
    "path_to_summary ='./data/summary_data/summaries.json'\n",
    "\n",
    "def make_internal_node_d(tree):\n",
    "    \"\"\"\"\"\"\n",
    "    internal_node_dict = {}\n",
    "    for node in tree.get_nonterminals():\n",
    "        internal_node_dict[node.name] = {'name':node.name, 'rank':'', 'taxid':'', 'sci_name':''}\n",
    "    for node in tree.get_terminals():\n",
    "            internal_node_dict[node.name] = {'name':node.name}\n",
    "    internal_node_dict\n",
    "\n",
    "    with open('./data/summary_data/internal_node_dict.json', 'w') as f:\n",
    "        json.dump(internal_node_dict, f)\n",
    "    internal_node_dict\n",
    "\n",
    "make_internal_node_d(Phylo.read(sp_tree_path, format='newick'))"
   ]
  },
  {
   "cell_type": "markdown",
   "metadata": {},
   "source": [
    "### Make node rank lineage file"
   ]
  },
  {
   "cell_type": "code",
   "execution_count": null,
   "metadata": {
    "tags": []
   },
   "outputs": [],
   "source": [
    "\n"
   ]
  },
  {
   "cell_type": "code",
   "execution_count": null,
   "metadata": {
    "collapsed": true,
    "jupyter": {
     "outputs_hidden": true
    },
    "tags": []
   },
   "outputs": [],
   "source": []
  },
  {
   "cell_type": "code",
   "execution_count": null,
   "metadata": {
    "tags": []
   },
   "outputs": [],
   "source": [
    "\n"
   ]
  },
  {
   "cell_type": "code",
   "execution_count": null,
   "metadata": {
    "tags": []
   },
   "outputs": [],
   "source": []
  },
  {
   "cell_type": "code",
   "execution_count": null,
   "metadata": {
    "tags": []
   },
   "outputs": [],
   "source": [
    "\n"
   ]
  },
  {
   "cell_type": "code",
   "execution_count": null,
   "metadata": {},
   "outputs": [],
   "source": []
  },
  {
   "cell_type": "code",
   "execution_count": null,
   "metadata": {},
   "outputs": [],
   "source": []
  }
 ],
 "metadata": {
  "kernelspec": {
   "display_name": "Python 3 (ipykernel)",
   "language": "python",
   "name": "python3"
  },
  "language_info": {
   "codemirror_mode": {
    "name": "ipython",
    "version": 3
   },
   "file_extension": ".py",
   "mimetype": "text/x-python",
   "name": "python",
   "nbconvert_exporter": "python",
   "pygments_lexer": "ipython3",
   "version": "3.10.1"
  }
 },
 "nbformat": 4,
 "nbformat_minor": 4
}
